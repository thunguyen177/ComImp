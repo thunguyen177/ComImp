{
 "cells": [
  {
   "cell_type": "code",
   "execution_count": 1,
   "id": "a90e3942",
   "metadata": {},
   "outputs": [],
   "source": [
    "import sklearn.neighbors._base\n",
    "import sys\n",
    "sys.modules['sklearn.neighbors.base'] = sklearn.neighbors._base\n",
    "# !pip install impyute\n",
    "# !pip install fancyimpute\n",
    "from sklearn import datasets\n",
    "from sklearn.preprocessing import LabelEncoder, StandardScaler, MinMaxScaler\n",
    "from sklearn.discriminant_analysis import LinearDiscriminantAnalysis as skLDA\n",
    "from sklearn.experimental import enable_iterative_imputer\n",
    "from sklearn.impute import IterativeImputer\n",
    "from scipy import stats\n",
    "import numpy as np\n",
    "# import impyute as impy\n",
    "from fancyimpute import SoftImpute#, MatrixFactorization\n",
    "import pandas as pd\n",
    "import time\n",
    "import math\n",
    "# from missingpy import MissForest\n",
    "from sklearn.model_selection import train_test_split\n",
    "from numpy.linalg import norm, inv\n",
    "\n",
    "from sklearn.datasets import make_regression\n",
    "from sklearn.model_selection import train_test_split\n",
    "from sklearn.linear_model import LinearRegression\n",
    "from fancyimpute import SimpleFill, SoftImpute\n",
    "from sklearn.pipeline import make_pipeline\n",
    "from sklearn.svm import SVC\n",
    "from sklearn.linear_model import LogisticRegression\n",
    "\n",
    "import warnings\n",
    "warnings.filterwarnings(\"ignore\")"
   ]
  },
  {
   "cell_type": "code",
   "execution_count": 2,
   "id": "934bae58",
   "metadata": {},
   "outputs": [
    {
     "data": {
      "text/plain": [
       "(178, 13)"
      ]
     },
     "execution_count": 2,
     "metadata": {},
     "output_type": "execute_result"
    }
   ],
   "source": [
    "wine = datasets.load_wine()\n",
    "X,y = wine.data, wine.target.ravel() \n",
    "X.shape"
   ]
  },
  {
   "cell_type": "code",
   "execution_count": 3,
   "id": "aa6150c1",
   "metadata": {},
   "outputs": [],
   "source": [
    "ndel3a, ndel3b = 4, 6\n",
    "def one_iter(clf, clf1, clf2, clf3):\n",
    "    fold = np.random.choice(np.arange(6), len(y))\n",
    "    Xtrain1, Xtrain2, Xtrain3 = X[fold == 0,:],X[fold == 1,:],X[fold == 2,:]\n",
    "    Xtest1, Xtest2, Xtest3 = X[fold == 3,:],X[fold == 4,:],X[fold == 5,:]\n",
    "    ytrain1, ytrain2, ytrain3 = y[fold == 0], y[fold == 1], y[fold == 2] \n",
    "    ytest1, ytest2, ytest3  = y[fold == 3], y[fold == 4], y[fold == 5]\n",
    "          \n",
    "    Xtrain1[:, :ndel1] = np.nan\n",
    "    Xtest1[:,:ndel1] = np.nan\n",
    "    Xtrain2[:, ndel2:] = np.nan\n",
    "    Xtest2[:,ndel2:] = np.nan\n",
    "    Xtrain3[:, ndel3a:ndel3b] = np.nan\n",
    "    Xtest3[:,ndel3a:ndel3b] = np.nan    \n",
    "\n",
    "    Xtrain = np.vstack((Xtrain1, Xtrain2, Xtrain3))\n",
    "    Xtest = np.vstack((Xtest1, Xtest2, Xtest3))\n",
    "    ytrain = np.hstack((ytrain1, ytrain2, ytrain3)) \n",
    "    ytest = np.hstack((ytest1, ytest2, ytest3))\n",
    "    \n",
    "    Xtrain1 = Xtrain1[:,ndel1:]\n",
    "    Xtrain2 = Xtrain2[:,:ndel2]\n",
    "    Xtest1 = Xtest1[:,ndel1:]\n",
    "    Xtest2 = Xtest2[:,:ndel2]\n",
    "    xt3na = np.array([sum(np.isnan(Xtrain3[:,i])) for i in range(Xtrain3.shape[1])])\n",
    "    Xtrain3 = Xtrain3[:, xt3na!=len(ytrain3)]\n",
    "    Xtest3 = Xtest3[:, xt3na!=len(ytrain3)]\n",
    "    \n",
    "    scaler = MinMaxScaler()\n",
    "    scaler.fit(Xtrain1)\n",
    "    Xtrain1 = scaler.transform(Xtrain1)\n",
    "    Xtest1 = scaler.transform(Xtest1)\n",
    "    scaler.fit(Xtrain2)\n",
    "    Xtrain2 = scaler.transform(Xtrain2)\n",
    "    Xtest2 = scaler.transform(Xtest2)    \n",
    "    scaler.fit(Xtrain3)\n",
    "    Xtrain3 = scaler.transform(Xtrain3)\n",
    "    Xtest3 = scaler.transform(Xtest3)    \n",
    "    \n",
    "\n",
    "    scaler.fit(Xtrain)\n",
    "    Xtrain = scaler.transform(Xtrain)\n",
    "    Xtest = scaler.transform(Xtest)\n",
    "    Xtrain = SoftImpute(verbose = False).fit_transform(Xtrain)\n",
    "    Xtest = SoftImpute(verbose = False).fit_transform(Xtest)\n",
    "    \n",
    "    clf.fit(Xtrain, ytrain)\n",
    "    clf1.fit(Xtrain1, ytrain1)\n",
    "    clf2.fit(Xtrain2, ytrain2)\n",
    "    clf3.fit(Xtrain3, ytrain3)\n",
    "\n",
    "    return np.array([np.mean(clf.predict(Xtest[:len(ytest1),:])==ytest1.flatten()), \n",
    "                     np.mean(clf.predict(Xtest[len(ytest1):len(ytest1)+len(ytest2),:])==ytest2.flatten()),\n",
    "                     np.mean(clf.predict(Xtest[len(ytest1)+len(ytest2):,:])==ytest3.flatten()),                     \n",
    "                     clf1.score(Xtest1, ytest1),  clf2.score(Xtest2, ytest2), clf3.score(Xtest3, ytest3)])    "
   ]
  },
  {
   "cell_type": "code",
   "execution_count": 4,
   "id": "65059cbc",
   "metadata": {},
   "outputs": [],
   "source": [
    "ndel1, ndel2 = 1,5 #ok:5, 15; 8, 15 \n",
    "# 10, 15\n",
    "\n",
    "clf = LogisticRegression(random_state=0)\n",
    "clf1 = LogisticRegression(random_state=0)\n",
    "clf2 = LogisticRegression(random_state=0)\n",
    "clf3 = LogisticRegression(random_state=0)\n",
    "res = np.array([one_iter(clf, clf1, clf2, clf3) for i in range(10000)])"
   ]
  },
  {
   "cell_type": "code",
   "execution_count": 5,
   "id": "71139aa7",
   "metadata": {},
   "outputs": [
    {
     "data": {
      "text/plain": [
       "(array([[0.9408286 , 0.78122708, 0.97125832],\n",
       "        [0.91244308, 0.73480236, 0.94561446]]),\n",
       " array([[0.00186196, 0.00712629, 0.00099599],\n",
       "        [0.00431485, 0.01020869, 0.00309076]]))"
      ]
     },
     "execution_count": 5,
     "metadata": {},
     "output_type": "execute_result"
    }
   ],
   "source": [
    "np.mean(res, axis = 0).reshape((-1,3)), np.var(res, axis = 0).reshape((-1,3))"
   ]
  },
  {
   "cell_type": "code",
   "execution_count": 6,
   "id": "85738f84",
   "metadata": {},
   "outputs": [],
   "source": [
    "clf = make_pipeline(StandardScaler(), SVC(gamma='auto'))\n",
    "clf1 = make_pipeline(StandardScaler(), SVC(gamma='auto'))\n",
    "clf2 = make_pipeline(StandardScaler(), SVC(gamma='auto'))\n",
    "clf3 = make_pipeline(StandardScaler(), SVC(gamma='auto'))\n",
    "res = np.array([one_iter(clf, clf1, clf2, clf3) for i in range(10000)])"
   ]
  },
  {
   "cell_type": "code",
   "execution_count": 7,
   "id": "510d03a9",
   "metadata": {},
   "outputs": [
    {
     "data": {
      "text/plain": [
       "(array([[0.95476065, 0.82587196, 0.96843878],\n",
       "        [0.93388848, 0.79258665, 0.95295455]]),\n",
       " array([[0.00144777, 0.00500543, 0.00099167],\n",
       "        [0.00329431, 0.00723935, 0.00234186]]))"
      ]
     },
     "execution_count": 7,
     "metadata": {},
     "output_type": "execute_result"
    }
   ],
   "source": [
    "np.mean(res, axis = 0).reshape((-1,3)), np.var(res, axis = 0).reshape((-1,3))"
   ]
  },
  {
   "cell_type": "code",
   "execution_count": null,
   "id": "b0771024",
   "metadata": {},
   "outputs": [],
   "source": []
  }
 ],
 "metadata": {
  "kernelspec": {
   "display_name": "Python 3 (ipykernel)",
   "language": "python",
   "name": "python3"
  },
  "language_info": {
   "codemirror_mode": {
    "name": "ipython",
    "version": 3
   },
   "file_extension": ".py",
   "mimetype": "text/x-python",
   "name": "python",
   "nbconvert_exporter": "python",
   "pygments_lexer": "ipython3",
   "version": "3.9.7"
  }
 },
 "nbformat": 4,
 "nbformat_minor": 5
}
