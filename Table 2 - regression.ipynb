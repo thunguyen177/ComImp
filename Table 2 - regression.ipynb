{
 "cells": [
  {
   "cell_type": "code",
   "execution_count": 1,
   "id": "a90e3942",
   "metadata": {},
   "outputs": [],
   "source": [
    "import sklearn.neighbors._base\n",
    "import sys\n",
    "sys.modules['sklearn.neighbors.base'] = sklearn.neighbors._base\n",
    "# !pip install impyute\n",
    "# !pip install fancyimpute\n",
    "from sklearn import datasets\n",
    "from sklearn.preprocessing import LabelEncoder, StandardScaler\n",
    "from sklearn.discriminant_analysis import LinearDiscriminantAnalysis as skLDA\n",
    "from sklearn.experimental import enable_iterative_imputer\n",
    "from sklearn.impute import IterativeImputer\n",
    "from scipy import stats\n",
    "import numpy as np\n",
    "# import impyute as impy\n",
    "from fancyimpute import SoftImpute#, MatrixFactorization\n",
    "import pandas as pd\n",
    "import time\n",
    "import math\n",
    "# from missingpy import MissForest\n",
    "from sklearn.model_selection import train_test_split\n",
    "from numpy.linalg import norm, inv\n",
    "\n",
    "from sklearn.datasets import make_regression\n",
    "from sklearn.model_selection import train_test_split\n",
    "from sklearn.preprocessing import MinMaxScaler\n",
    "from sklearn.linear_model import LinearRegression\n",
    "from fancyimpute import SimpleFill, SoftImpute"
   ]
  },
  {
   "cell_type": "code",
   "execution_count": 2,
   "id": "28ad9ec5",
   "metadata": {},
   "outputs": [
    {
     "data": {
      "text/plain": [
       "(array([3.32561618, 3.04366797, 0.7337274 ]),\n",
       " array([0.09251443, 0.13109495, 0.00213263]))"
      ]
     },
     "execution_count": 2,
     "metadata": {},
     "output_type": "execute_result"
    }
   ],
   "source": [
    "e = []\n",
    "mu = np.array([1., 2., .5])\n",
    "S = np.array([[1, 0.5, 0.3], [0.5,1., 0.4], [0.3,0.4,1.]])\n",
    "n_samples= 500\n",
    "n1, n2 = 300, 200\n",
    "for i in range(10000):\n",
    "    X1 = np.random.multivariate_normal(mu, S, n1)\n",
    "    X2 = np.random.multivariate_normal(mu, S, n2)\n",
    "    y1 = .3 + X1[:,0] + 0.5*X1[:,1] + X1[:,2] + np.random.normal(0,0.2,n1)\n",
    "    y2 = .3 + X2[:,0] + 0.5*X2[:,1] + X2[:,2] + np.random.normal(0,0.2,n2)\n",
    "#     X1, X2, y1, y2 = train_test_split(X,y.reshape((-1,1)),test_size=0.4)\n",
    "    Xtrain1, Xtest1, ytrain1, ytest1 = train_test_split(X1,y1.reshape((-1,1)),test_size=0.3)\n",
    "    Xtrain2, Xtest2, ytrain2, ytest2 = train_test_split(X2,y2.reshape((-1,1)),test_size=0.3) \n",
    "    ndel1, ndel2 = 1,2\n",
    "    Xtrain1[:, :ndel1] = np.nan\n",
    "    Xtest1[:,:ndel1] = np.nan\n",
    "    Xtrain2[:, ndel2:] = np.nan\n",
    "    Xtest2[:,ndel2:] = np.nan\n",
    "    \n",
    "    Xtrain2[:,1] = Xtrain2[:,1] + np.random.normal(0,0.05, len(Xtrain2[:,1]))\n",
    "    Xtrain2[:,2] = Xtrain2[:,2] + np.random.normal(0,0.2, len(Xtrain2[:,1]))    \n",
    "    \n",
    "    Xtrain_merged = np.vstack((Xtrain1, Xtrain2))\n",
    "    Xtest = np.vstack((Xtest1, Xtest2))\n",
    "    ymerged = np.vstack((ytrain1, ytrain2))\n",
    "    ytest = np.vstack((ytest1, ytest2))\n",
    "    \n",
    "    Xtrain1 = Xtrain1[:,ndel1:]\n",
    "    Xtrain2 = Xtrain2[:,:ndel2]\n",
    "    Xtest1 = Xtest1[:,ndel1:]\n",
    "    Xtest2 = Xtest2[:,:ndel2]\n",
    "    \n",
    "    model1 = LinearRegression().fit(Xtrain1, ytrain1)\n",
    "    e1 = np.mean(np.abs(model1.predict(Xtest1 - ytest1)))\n",
    "    \n",
    "    model2 = LinearRegression().fit(Xtrain2, ytrain2)\n",
    "    e2 = np.mean(np.abs(model2.predict(Xtest2 - ytest2)))\n",
    "    \n",
    "    imputer = SimpleFill(fill_method=\"mean\")\n",
    "#     imputer =  SoftImpute(max_iters = 100, verbose = False)\n",
    "    Xtrain_merged = imputer.fit_transform(Xtrain_merged)\n",
    "    Xtest = imputer.fit_transform(Xtest)\n",
    "    model_merged = LinearRegression().fit(Xtrain_merged, ymerged)\n",
    "    e_merged = np.mean(np.abs(model_merged.predict(Xtest) - ytest))\n",
    "    \n",
    "    e.append(np.array([e1, e2, e_merged]))    \n",
    "np.mean(np.asarray(e), axis = 0), np.var(np.asarray(e), axis = 0), "
   ]
  },
  {
   "cell_type": "code",
   "execution_count": null,
   "id": "8d4d7fcb",
   "metadata": {},
   "outputs": [],
   "source": []
  }
 ],
 "metadata": {
  "kernelspec": {
   "display_name": "Python 3 (ipykernel)",
   "language": "python",
   "name": "python3"
  },
  "language_info": {
   "codemirror_mode": {
    "name": "ipython",
    "version": 3
   },
   "file_extension": ".py",
   "mimetype": "text/x-python",
   "name": "python",
   "nbconvert_exporter": "python",
   "pygments_lexer": "ipython3",
   "version": "3.9.7"
  }
 },
 "nbformat": 4,
 "nbformat_minor": 5
}
