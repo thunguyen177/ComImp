{
 "cells": [
  {
   "cell_type": "markdown",
   "metadata": {
    "id": "mwYR5utJj3Tn"
   },
   "source": [
    "# Imputing time series value : EEG data"
   ]
  },
  {
   "cell_type": "code",
   "execution_count": null,
   "metadata": {
    "id": "MCNjmLmV1sZZ"
   },
   "outputs": [],
   "source": [
    "import pandas as pd\n",
    "from sklearn.model_selection import train_test_split\n",
    "import numpy as np"
   ]
  },
  {
   "cell_type": "code",
   "execution_count": null,
   "metadata": {
    "id": "ZxuSfDD34rTj"
   },
   "outputs": [],
   "source": [
    "eeg= pd.read_csv(\"/content/Epileptic Seizure Recognition.csv\")"
   ]
  },
  {
   "cell_type": "code",
   "execution_count": null,
   "metadata": {
    "id": "K8-3lQse4x8c"
   },
   "outputs": [],
   "source": [
    "eeg.head(10)"
   ]
  },
  {
   "cell_type": "code",
   "execution_count": null,
   "metadata": {
    "colab": {
     "base_uri": "https://localhost:8080/"
    },
    "id": "aYhTaXsR5LVJ",
    "outputId": "73054845-5dbb-495e-f374-3968fc67aed0"
   },
   "outputs": [
    {
     "data": {
      "text/plain": [
       "((11500, 180), (11500, 179))"
      ]
     },
     "execution_count": 6,
     "metadata": {},
     "output_type": "execute_result"
    }
   ],
   "source": [
    "eeg.shape,eeg.iloc[:,:-1].shape"
   ]
  },
  {
   "cell_type": "code",
   "execution_count": null,
   "metadata": {
    "colab": {
     "base_uri": "https://localhost:8080/"
    },
    "id": "j-lsUuH_-FvA",
    "outputId": "77effb00-59ad-4f36-de82-85767ceae1e3"
   },
   "outputs": [
    {
     "data": {
      "text/plain": [
       "array([4, 1, 5, ..., 5, 3, 4])"
      ]
     },
     "execution_count": 7,
     "metadata": {},
     "output_type": "execute_result"
    }
   ],
   "source": [
    "X = eeg.iloc[:,1:-1].values\n",
    "y = eeg.iloc[:,-1].values\n",
    "y"
   ]
  },
  {
   "cell_type": "code",
   "execution_count": null,
   "metadata": {
    "colab": {
     "base_uri": "https://localhost:8080/"
    },
    "id": "b64raeW--WYY",
    "outputId": "62f12b38-c3eb-47ff-8847-94fb4366b471"
   },
   "outputs": [
    {
     "data": {
      "text/plain": [
       "array([0, 1, 0, ..., 0, 0, 0])"
      ]
     },
     "execution_count": 8,
     "metadata": {},
     "output_type": "execute_result"
    }
   ],
   "source": [
    "y[y>1]=0\n",
    "y"
   ]
  },
  {
   "cell_type": "code",
   "execution_count": null,
   "metadata": {
    "id": "uX3Rh9Jf-X_B"
   },
   "outputs": [],
   "source": []
  },
  {
   "cell_type": "code",
   "execution_count": null,
   "metadata": {
    "id": "_U6qmNV76lf_"
   },
   "outputs": [],
   "source": [
    "from sklearn.preprocessing import StandardScaler\n",
    "scaler = StandardScaler()\n",
    "\n",
    "x = scaler.fit_transform(X)\n"
   ]
  },
  {
   "cell_type": "code",
   "execution_count": null,
   "metadata": {
    "id": "KCGZXN25B1u4"
   },
   "outputs": [],
   "source": [
    "from sklearn.model_selection import train_test_split, cross_val_score\n",
    "x_train, x_test, y_train, y_test = train_test_split(X, y, test_size = 0.2)"
   ]
  },
  {
   "cell_type": "code",
   "execution_count": null,
   "metadata": {
    "id": "U-DLknLFtTvB"
   },
   "outputs": [],
   "source": [
    "Xtrain1, Xtest1, ytrain1, ytest1 = train_test_split(x_train,y_train,test_size=0.3)\n",
    "Xtrain2, Xtest2, ytrain2, ytest2 = train_test_split(x_test,y_test,test_size=0.3)"
   ]
  },
  {
   "cell_type": "code",
   "execution_count": null,
   "metadata": {
    "colab": {
     "base_uri": "https://localhost:8080/"
    },
    "id": "sW0JAynqB3O4",
    "outputId": "ccfdfa4c-5b9a-4a15-ff4f-0357ec8ceb41"
   },
   "outputs": [
    {
     "data": {
      "text/plain": [
       "((6440, 178), (1610, 178), (2760, 178), (690, 178))"
      ]
     },
     "execution_count": 52,
     "metadata": {},
     "output_type": "execute_result"
    }
   ],
   "source": [
    "Xtrain1.shape,Xtrain2.shape,Xtest1.shape,Xtest2.shape"
   ]
  },
  {
   "cell_type": "code",
   "execution_count": null,
   "metadata": {
    "colab": {
     "base_uri": "https://localhost:8080/"
    },
    "id": "J-8fZFwodX3c",
    "outputId": "1908cf67-6d23-4ecd-ba6e-b226654d5d1c"
   },
   "outputs": [
    {
     "data": {
      "text/plain": [
       "((6440,), (2760,), (1610,), (690,))"
      ]
     },
     "execution_count": 53,
     "metadata": {},
     "output_type": "execute_result"
    }
   ],
   "source": [
    "ytrain1.shape, ytest1.shape,ytrain2.shape, ytest2.shape"
   ]
  },
  {
   "cell_type": "code",
   "execution_count": null,
   "metadata": {
    "id": "47UnJjEjC_Tw"
   },
   "outputs": [],
   "source": [
    "!pip install fancyimpute"
   ]
  },
  {
   "cell_type": "code",
   "execution_count": null,
   "metadata": {
    "id": "AP7I2VQ1EbIO"
   },
   "outputs": [],
   "source": [
    "idx1 = np.array([4,5,6,7,8,9,10,11,12,13,14,15,16,17,18,19,20])\n",
    "idx2=np.array([95,96,97,98,99,100,101,102,103,104,105,106,107,108,109,110])"
   ]
  },
  {
   "cell_type": "code",
   "execution_count": null,
   "metadata": {
    "id": "U4iXWyYcym6j"
   },
   "outputs": [],
   "source": [
    "m1 = np.zeros_like(Xtrain1)\n",
    "m2 = np.zeros_like(Xtest1)\n",
    "m3 = np.zeros_like(Xtrain2)\n",
    "m4 = np.zeros_like(Xtest2)"
   ]
  },
  {
   "cell_type": "code",
   "execution_count": null,
   "metadata": {
    "id": "vwWFxUly0YR-"
   },
   "outputs": [],
   "source": [
    "m1[:,idx1] = 1 \n",
    "m2[:,idx1] = 1 \n",
    "m3[:,idx2] = 1 \n",
    "m4[:,idx2] = 1 "
   ]
  },
  {
   "cell_type": "code",
   "execution_count": null,
   "metadata": {
    "id": "yXPymf9VaoLi"
   },
   "outputs": [],
   "source": [
    "\"Splitted and masked \"\n",
    "m_xtrain1 = np.ma.masked_array(Xtrain1, m1)\n",
    "m_xtest1 = np.ma.masked_array(Xtest1, m2)\n",
    "m_xtrain2 = np.ma.masked_array(Xtrain2, m3)\n",
    "m_xtest2 = np.ma.masked_array(Xtest2, m4)\n"
   ]
  },
  {
   "cell_type": "code",
   "execution_count": null,
   "metadata": {
    "id": "xD7TkLDeNm3k"
   },
   "outputs": [],
   "source": [
    "import copy\n",
    "from fancyimpute import IterativeImputer, SoftImpute\n",
    "MICE_imputer = IterativeImputer()"
   ]
  },
  {
   "cell_type": "code",
   "execution_count": null,
   "metadata": {
    "id": "h5x93-gPCjTN"
   },
   "outputs": [],
   "source": []
  },
  {
   "cell_type": "markdown",
   "metadata": {
    "id": "5TmDDfO8lLXH"
   },
   "source": [
    " ## Training done on splitted and masked dataset (D1) and tested on splitted unmasked data\n",
    "\n"
   ]
  },
  {
   "cell_type": "code",
   "execution_count": null,
   "metadata": {
    "id": "9TTMdhNGcpNf"
   },
   "outputs": [],
   "source": [
    "from sklearn.linear_model import LogisticRegression\n",
    "logreg = LogisticRegression(C=1e5)\n",
    "logreg.fit(m_xtrain1, ytrain1)"
   ]
  },
  {
   "cell_type": "code",
   "execution_count": null,
   "metadata": {
    "colab": {
     "base_uri": "https://localhost:8080/"
    },
    "id": "cYjCjGgYkTFU",
    "outputId": "2dbd00c9-edf2-48ff-bc0c-77615a41f69c"
   },
   "outputs": [
    {
     "name": "stdout",
     "output_type": "stream",
     "text": [
      "Accuracy of logistic regression classifier on test set: 0.62\n"
     ]
    }
   ],
   "source": [
    "y_pred = logreg.predict(Xtest1)\n",
    "print('Accuracy of logistic regression classifier on test set: {:.2f}'.format(logreg.score(Xtest1, ytest1)))"
   ]
  },
  {
   "cell_type": "markdown",
   "metadata": {
    "id": "x-eh1O_ulZkn"
   },
   "source": [
    "## Training done on splitted and masked dataset (D2) and tested on splitted unmasked data.\n"
   ]
  },
  {
   "cell_type": "code",
   "execution_count": null,
   "metadata": {
    "colab": {
     "base_uri": "https://localhost:8080/"
    },
    "id": "lvL06sGNlYNs",
    "outputId": "f35b6a61-81aa-4323-ed7c-da5e64a4a788"
   },
   "outputs": [
    {
     "name": "stderr",
     "output_type": "stream",
     "text": [
      "/usr/local/lib/python3.7/dist-packages/sklearn/linear_model/_logistic.py:818: ConvergenceWarning: lbfgs failed to converge (status=1):\n",
      "STOP: TOTAL NO. of ITERATIONS REACHED LIMIT.\n",
      "\n",
      "Increase the number of iterations (max_iter) or scale the data as shown in:\n",
      "    https://scikit-learn.org/stable/modules/preprocessing.html\n",
      "Please also refer to the documentation for alternative solver options:\n",
      "    https://scikit-learn.org/stable/modules/linear_model.html#logistic-regression\n",
      "  extra_warning_msg=_LOGISTIC_SOLVER_CONVERGENCE_MSG,\n"
     ]
    },
    {
     "data": {
      "text/plain": [
       "LogisticRegression(C=100000.0)"
      ]
     },
     "execution_count": 101,
     "metadata": {},
     "output_type": "execute_result"
    }
   ],
   "source": [
    "logreg2 = LogisticRegression(C=1e5)\n",
    "logreg2.fit(m_xtrain2, ytrain2)"
   ]
  },
  {
   "cell_type": "code",
   "execution_count": null,
   "metadata": {
    "colab": {
     "base_uri": "https://localhost:8080/"
    },
    "id": "lao3HMG-lJHQ",
    "outputId": "dd2e5d5b-04a0-45de-f3ca-934c69949cef"
   },
   "outputs": [
    {
     "name": "stdout",
     "output_type": "stream",
     "text": [
      "Accuracy of logistic regression classifier on test set: 0.60\n"
     ]
    }
   ],
   "source": [
    "y_pred = logreg2.predict(Xtest2)\n",
    "print('Accuracy of logistic regression classifier on test set: {:.2f}'.format(logreg2.score(Xtest2, ytest2)))"
   ]
  },
  {
   "cell_type": "markdown",
   "metadata": {
    "id": "K7CTqxMvmKXc"
   },
   "source": [
    "## Testing done on merged and imputed dataset (D1+D2) ."
   ]
  },
  {
   "cell_type": "code",
   "execution_count": null,
   "metadata": {
    "id": "X4NV96cwmGl7"
   },
   "outputs": [],
   "source": [
    "Xtrain_merged = np.vstack((m_xtrain1, m_xtrain2))\n",
    "ymerged = np.vstack((ytrain1.reshape((-1,1)), ytrain2.reshape((-1,1))))\n"
   ]
  },
  {
   "cell_type": "code",
   "execution_count": null,
   "metadata": {
    "id": "qZ3EOosgzDoQ"
   },
   "outputs": [],
   "source": [
    "Xtest_merged = np.vstack((m_xtest1, m_xtest2))\n",
    "ymerged_test = np.vstack((ytest1.reshape((-1,1)), ytest2.reshape((-1,1))))\n"
   ]
  },
  {
   "cell_type": "code",
   "execution_count": null,
   "metadata": {
    "id": "maemcjsGwwfo"
   },
   "outputs": [],
   "source": [
    "\n",
    "\n",
    "eeg_imputed = copy.deepcopy(Xtrain_merged)\n",
    "\n",
    "eeg_imp_xtrain1= copy.deepcopy(m_xtrain1)\n",
    "eeg_imp_xtrain2= copy.deepcopy(m_xtrain2)"
   ]
  },
  {
   "cell_type": "code",
   "execution_count": null,
   "metadata": {
    "id": "4T453_VtzSXt"
   },
   "outputs": [],
   "source": [
    "eeg_imputed_test=copy.deepcopy(Xtest_merged)"
   ]
  },
  {
   "cell_type": "markdown",
   "metadata": {
    "id": "HGiuPAivz79d"
   },
   "source": [
    "# MICE imputer"
   ]
  },
  {
   "cell_type": "code",
   "execution_count": null,
   "metadata": {
    "id": "yiwFFE_-0R5Z"
   },
   "outputs": [],
   "source": [
    "\n",
    "eeg_imp_xtrain1[:,:]=MICE_imputer.fit_transform(m_xtrain1)\n",
    "eeg_imp_xtrain2[:,:]=MICE_imputer.fit_transform(m_xtrain2)"
   ]
  },
  {
   "cell_type": "code",
   "execution_count": null,
   "metadata": {
    "id": "r0wYW0P5yw26"
   },
   "outputs": [],
   "source": [
    "eeg_imputed[:,:]=MICE_imputer.fit_transform(eeg_imputed)"
   ]
  },
  {
   "cell_type": "code",
   "execution_count": null,
   "metadata": {
    "colab": {
     "base_uri": "https://localhost:8080/"
    },
    "id": "W1aIfX_m0ZAn",
    "outputId": "536e9249-91a8-4a09-a7c5-f08f3444e2fa"
   },
   "outputs": [
    {
     "data": {
      "text/plain": [
       "((8050, 1), (8050, 178))"
      ]
     },
     "execution_count": 70,
     "metadata": {},
     "output_type": "execute_result"
    }
   ],
   "source": [
    "ymerged.shape,eeg_imputed.shape"
   ]
  },
  {
   "cell_type": "code",
   "execution_count": null,
   "metadata": {
    "id": "F8yd-82LzudI"
   },
   "outputs": [],
   "source": [
    "eeg_imputed_test[:,:]=MICE_imputer.fit_transform(eeg_imputed_test)"
   ]
  },
  {
   "cell_type": "code",
   "execution_count": null,
   "metadata": {
    "colab": {
     "base_uri": "https://localhost:8080/"
    },
    "id": "USi2rKOdQzFd",
    "outputId": "6b6766cd-4943-4468-c580-876911c0b08c"
   },
   "outputs": [
    {
     "data": {
      "text/plain": [
       "((3450, 178), (3450, 1))"
      ]
     },
     "execution_count": 72,
     "metadata": {},
     "output_type": "execute_result"
    }
   ],
   "source": [
    "eeg_imputed_test.shape, ymerged_test.shape"
   ]
  },
  {
   "cell_type": "code",
   "execution_count": null,
   "metadata": {
    "id": "nVRnmJESEJb3"
   },
   "outputs": [],
   "source": [
    "logreg3 = LogisticRegression(C=1e5)\n",
    "logreg3.fit(eeg_imputed, ymerged)\n",
    "\n"
   ]
  },
  {
   "cell_type": "code",
   "execution_count": null,
   "metadata": {
    "colab": {
     "base_uri": "https://localhost:8080/"
    },
    "id": "um0YIoG4wZxf",
    "outputId": "9dbcbcc2-ca69-4612-dbc5-4793e3f535a1"
   },
   "outputs": [
    {
     "name": "stdout",
     "output_type": "stream",
     "text": [
      "Accuracy of logistic regression classifier on test set: 0.65\n"
     ]
    }
   ],
   "source": [
    "y_pred = logreg3.predict(eeg_imputed_test)\n",
    "print('Accuracy of logistic regression classifier on test set: {:.2f}'.format(logreg3.score(eeg_imputed_test, ymerged_test)))"
   ]
  },
  {
   "cell_type": "code",
   "execution_count": null,
   "metadata": {
    "id": "pJJt2Eb18BWy"
   },
   "outputs": [],
   "source": [
    "myString.replace(/\\s*/g,\"\").match(/mycats/g)"
   ]
  },
  {
   "cell_type": "code",
   "execution_count": null,
   "metadata": {
    "id": "p8l7Nzrc8B7o"
   },
   "outputs": [],
   "source": []
  },
  {
   "cell_type": "code",
   "execution_count": null,
   "metadata": {
    "colab": {
     "base_uri": "https://localhost:8080/"
    },
    "id": "Y5mRf6kB4ZjT",
    "outputId": "a47d91d7-d693-474a-b88e-63c1c5119d3f"
   },
   "outputs": [
    {
     "name": "stdout",
     "output_type": "stream",
     "text": [
      "file/subj001\n",
      "No\n",
      "No\n"
     ]
    }
   ],
   "source": [
    "list=[\"file/subj001\",\"file/subj002\", \"file/subj003\"]\n",
    "\n",
    "for each in list:\n",
    "   \n",
    "    if \"subj 001\".replace(\" \", \"\") in each:\n",
    "       print(each)\n",
    "    else:\n",
    "     print(\"No\")"
   ]
  },
  {
   "cell_type": "markdown",
   "metadata": {
    "id": "8yqMQ-2y1mTg"
   },
   "source": [
    "# Soft Impute"
   ]
  },
  {
   "cell_type": "code",
   "execution_count": null,
   "metadata": {
    "id": "po1YQrPf1mCG"
   },
   "outputs": [],
   "source": [
    "imputer =  SoftImpute(max_iters = 100, verbose = False)"
   ]
  },
  {
   "cell_type": "code",
   "execution_count": null,
   "metadata": {
    "id": "zdQx1NdGIRw4"
   },
   "outputs": [],
   "source": [
    "eeg_softimputed_train = copy.deepcopy(Xtrain_merged)\n"
   ]
  },
  {
   "cell_type": "code",
   "execution_count": null,
   "metadata": {
    "id": "nq5P2OBT6veJ"
   },
   "outputs": [],
   "source": [
    "eeg_softimputed_test=copy.deepcopy(Xtest_merged)"
   ]
  },
  {
   "cell_type": "code",
   "execution_count": null,
   "metadata": {
    "id": "CsQuJTIU4H6x"
   },
   "outputs": [],
   "source": [
    "eeg_softimputed_train=imputer.fit_transform(eeg_softimputed_train)"
   ]
  },
  {
   "cell_type": "code",
   "execution_count": null,
   "metadata": {
    "id": "KAlCjTVK4e_M"
   },
   "outputs": [],
   "source": [
    "eeg_softimputed_test=imputer.fit_transform(eeg_softimputed_test)"
   ]
  },
  {
   "cell_type": "code",
   "execution_count": null,
   "metadata": {
    "id": "pAEczNED7F5I"
   },
   "outputs": [],
   "source": [
    "logreg4 = LogisticRegression(C=1e5)\n",
    "logreg4.fit(eeg_softimputed_train, ymerged)\n"
   ]
  },
  {
   "cell_type": "code",
   "execution_count": null,
   "metadata": {
    "colab": {
     "base_uri": "https://localhost:8080/"
    },
    "id": "b4SMfTCU7ZVS",
    "outputId": "2cf49940-713b-4b78-d3a4-c3675fb592cb"
   },
   "outputs": [
    {
     "name": "stdout",
     "output_type": "stream",
     "text": [
      "Accuracy of logistic regression classifier on test set: 0.65\n"
     ]
    }
   ],
   "source": [
    "y_pred = logreg4.predict(eeg_softimputed_test)\n",
    "print('Accuracy of logistic regression classifier on test set: {:.2f}'.format(logreg4.score(eeg_softimputed_test, ymerged_test)))"
   ]
  },
  {
   "cell_type": "markdown",
   "metadata": {
    "id": "TZn_3XcGUt3I"
   },
   "source": [
    "# Transfer Learning\n",
    "- Mask  $D1$ and $D2$. Train on  $D1$ get the weights and fine tune using $D2$.\n",
    "- Combine  $D1$ and  $D2$, do imputation, split the dataset and then train and test the model.\n",
    " "
   ]
  },
  {
   "cell_type": "code",
   "execution_count": null,
   "metadata": {
    "id": "ARrn0P_UG7vl"
   },
   "outputs": [],
   "source": [
    "import torch\n",
    "import torch.nn as nn\n",
    "import shutil\n",
    "from torch import optim\n",
    "import torch.nn.functional as F\n",
    "from torch.utils.data import DataLoader\n",
    "import matplotlib.pyplot as plt\n",
    "from tqdm import tqdm\n",
    "\n",
    "import os"
   ]
  },
  {
   "cell_type": "code",
   "execution_count": null,
   "metadata": {
    "id": "IsUIjEoqH_Rl"
   },
   "outputs": [],
   "source": [
    "m_xtrain1, m_xtrain2 = torch.Tensor(m_xtrain1.astype(np.float32)),torch.Tensor(m_xtrain2.astype(np.float32))\n",
    "ytrain1, ytrain2 = torch.Tensor(ytrain1.astype(np.float32)),torch.Tensor(ytrain2.astype(np.float32))"
   ]
  },
  {
   "cell_type": "code",
   "execution_count": null,
   "metadata": {
    "colab": {
     "base_uri": "https://localhost:8080/"
    },
    "id": "zS8KgwMR8fta",
    "outputId": "ca830a25-6028-4f6d-d219-8e7322af3590"
   },
   "outputs": [
    {
     "data": {
      "text/plain": [
       "(torch.Size([6440, 178]), torch.Size([6440]))"
      ]
     },
     "execution_count": 22,
     "metadata": {},
     "output_type": "execute_result"
    }
   ],
   "source": [
    "m_xtrain1.shape, ytrain1.shape"
   ]
  },
  {
   "cell_type": "code",
   "execution_count": null,
   "metadata": {
    "id": "AtOQDUKWsmG5"
   },
   "outputs": [],
   "source": [
    "ytrain1=ytrain1.view(ytrain1.shape[0],1)\n",
    "ytrain2=ytrain2.view(ytrain2.shape[0],1)\n",
    "\n",
    "#ytest1=ytest1.view(ytest1.shape[0],1)"
   ]
  },
  {
   "cell_type": "code",
   "execution_count": null,
   "metadata": {
    "id": "O2g_5tvsUwZI"
   },
   "outputs": [],
   "source": [
    "class Logistic_Reg_model(nn.Module):\n",
    " def __init__(self,n_input_features):\n",
    "   super(Logistic_Reg_model,self).__init__()\n",
    "   self.layer1=torch.nn.Linear(n_input_features,20)\n",
    "   self.layer2=torch.nn.Linear(20,1)\n",
    "\n",
    " def forward(self,x):\n",
    "   y_predicted=self.layer1(x)\n",
    "   y_predicted=torch.sigmoid(self.layer2(y_predicted))\n",
    "   return y_predicted\n"
   ]
  },
  {
   "cell_type": "code",
   "execution_count": null,
   "metadata": {
    "id": "bAU-BGo0vl3c"
   },
   "outputs": [],
   "source": [
    " def run_model(epochs,train_input_labels,test_input_labels,model,criterion,optimizer,save=False):\n",
    "\n",
    "    losses = []\n",
    "    Iterations = []\n",
    "    best_validation_acc = 0.0\n",
    "\n",
    "    for epoch in tqdm(range(int(epochs)), desc='Training Epochs'):\n",
    "      inputs = train_input_labels[0]\n",
    "      labels = train_input_labels[1]\n",
    "      optimizer.zero_grad() # Setting our stored gradients equal to zero\n",
    "      outputs = model(inputs)\n",
    "      loss = criterion(outputs, labels)\n",
    "      losses.append(loss.item()) \n",
    "      loss.backward() # Computes the gradient of the given tensor w.r.t. the weights/bias\n",
    "      \n",
    "      optimizer.step() # Updates weights and biases with the optimizer (SGD)\n",
    "      \n",
    "      \n",
    "\n",
    "      if epoch%1000==0:\n",
    "\n",
    "          with torch.no_grad():\n",
    "              correct_test=0\n",
    "              total_test=0\n",
    "              x_test = test_input_labels[0]\n",
    "              y_test = test_input_labels[1]\n",
    "              y_pred=model(x_test)\n",
    "              y_pred_class=y_pred.round()\n",
    "              accuracy=(y_pred_class.eq(y_test).sum())/float(y_test.shape[0])\n",
    "              Iterations.append(iter)\n",
    "\n",
    "              print(f\"Training_Loss: {loss.item()}\")\n",
    "              print(f\"Validation accuracy= {accuracy:.4f}\\n\")\n",
    "\n",
    "              if save: \n",
    "\n",
    "                if accuracy > best_validation_acc:\n",
    "                    best_validation_acc = accuracy\n",
    "                    torch.save(model.state_dict(),  \"./log_reg.pt\")\n",
    "        \n"
   ]
  },
  {
   "cell_type": "code",
   "execution_count": null,
   "metadata": {
    "id": "XqF16zcYKbDO"
   },
   "outputs": [],
   "source": [
    "model = Logistic_Reg_model(178)\n",
    "criterion = nn.BCELoss()\n",
    "optimizer = optim.SGD(model.parameters(), lr=0.0001)\n",
    "epochs =10000\n",
    "m_D1train, m_D1test, y_D1train, y_D1test = train_test_split(m_xtrain1,ytrain1,test_size=0.2)\n",
    "\n",
    "train_input_labels=m_D1train,y_D1train\n",
    "test_input_labels=m_D1test,y_D1test"
   ]
  },
  {
   "cell_type": "code",
   "execution_count": null,
   "metadata": {
    "colab": {
     "base_uri": "https://localhost:8080/"
    },
    "id": "78jPFHN-I3Ql",
    "outputId": "66705a79-8055-4ef2-a851-c3b8fc34919f"
   },
   "outputs": [
    {
     "name": "stderr",
     "output_type": "stream",
     "text": [
      "Training Epochs:   0%|          | 23/10000 [00:00<01:44, 95.11it/s]"
     ]
    },
    {
     "name": "stdout",
     "output_type": "stream",
     "text": [
      "Training_Loss: 24.87250328063965\n",
      "Validation accuracy= 0.5404\n",
      "\n"
     ]
    },
    {
     "name": "stderr",
     "output_type": "stream",
     "text": [
      "Training Epochs:  10%|█         | 1048/10000 [00:03<00:26, 339.75it/s]"
     ]
    },
    {
     "name": "stdout",
     "output_type": "stream",
     "text": [
      "Training_Loss: 0.7299313545227051\n",
      "Validation accuracy= 0.6234\n",
      "\n"
     ]
    },
    {
     "name": "stderr",
     "output_type": "stream",
     "text": [
      "Training Epochs:  20%|██        | 2046/10000 [00:06<00:23, 331.82it/s]"
     ]
    },
    {
     "name": "stdout",
     "output_type": "stream",
     "text": [
      "Training_Loss: 0.6719674468040466\n",
      "Validation accuracy= 0.6530\n",
      "\n"
     ]
    },
    {
     "name": "stderr",
     "output_type": "stream",
     "text": [
      "Training Epochs:  31%|███       | 3051/10000 [00:09<00:20, 336.50it/s]"
     ]
    },
    {
     "name": "stdout",
     "output_type": "stream",
     "text": [
      "Training_Loss: 0.6426905989646912\n",
      "Validation accuracy= 0.6863\n",
      "\n"
     ]
    },
    {
     "name": "stderr",
     "output_type": "stream",
     "text": [
      "Training Epochs:  41%|████      | 4051/10000 [00:12<00:17, 331.00it/s]"
     ]
    },
    {
     "name": "stdout",
     "output_type": "stream",
     "text": [
      "Training_Loss: 0.6225193738937378\n",
      "Validation accuracy= 0.7220\n",
      "\n"
     ]
    },
    {
     "name": "stderr",
     "output_type": "stream",
     "text": [
      "Training Epochs:  51%|█████     | 5061/10000 [00:15<00:14, 340.11it/s]"
     ]
    },
    {
     "name": "stdout",
     "output_type": "stream",
     "text": [
      "Training_Loss: 0.6072958111763\n",
      "Validation accuracy= 0.7407\n",
      "\n"
     ]
    },
    {
     "name": "stderr",
     "output_type": "stream",
     "text": [
      "Training Epochs:  61%|██████    | 6058/10000 [00:21<00:21, 179.95it/s]"
     ]
    },
    {
     "name": "stdout",
     "output_type": "stream",
     "text": [
      "Training_Loss: 0.5951695442199707\n",
      "Validation accuracy= 0.7632\n",
      "\n"
     ]
    },
    {
     "name": "stderr",
     "output_type": "stream",
     "text": [
      "Training Epochs:  70%|███████   | 7049/10000 [00:24<00:08, 330.49it/s]"
     ]
    },
    {
     "name": "stdout",
     "output_type": "stream",
     "text": [
      "Training_Loss: 0.5851150155067444\n",
      "Validation accuracy= 0.7725\n",
      "\n"
     ]
    },
    {
     "name": "stderr",
     "output_type": "stream",
     "text": [
      "Training Epochs:  81%|████████  | 8061/10000 [00:27<00:05, 336.18it/s]"
     ]
    },
    {
     "name": "stdout",
     "output_type": "stream",
     "text": [
      "Training_Loss: 0.5765101909637451\n",
      "Validation accuracy= 0.7880\n",
      "\n"
     ]
    },
    {
     "name": "stderr",
     "output_type": "stream",
     "text": [
      "Training Epochs:  91%|█████████ | 9052/10000 [00:30<00:02, 330.02it/s]"
     ]
    },
    {
     "name": "stdout",
     "output_type": "stream",
     "text": [
      "Training_Loss: 0.5689613223075867\n",
      "Validation accuracy= 0.7997\n",
      "\n"
     ]
    },
    {
     "name": "stderr",
     "output_type": "stream",
     "text": [
      "Training Epochs: 100%|██████████| 10000/10000 [00:32<00:00, 303.57it/s]\n"
     ]
    }
   ],
   "source": [
    "run_model(epochs,train_input_labels,test_input_labels,model,criterion,optimizer,save=True)"
   ]
  },
  {
   "cell_type": "code",
   "execution_count": null,
   "metadata": {
    "id": "X8rdGtXx6jGN"
   },
   "outputs": [],
   "source": [
    "state_dict = torch.load(\"/content/log_reg.pt\")"
   ]
  },
  {
   "cell_type": "code",
   "execution_count": null,
   "metadata": {
    "id": "CFWDboQp24Al"
   },
   "outputs": [],
   "source": [
    "model_test=Logistic_Reg_model(178)"
   ]
  },
  {
   "cell_type": "code",
   "execution_count": null,
   "metadata": {
    "colab": {
     "base_uri": "https://localhost:8080/"
    },
    "id": "bXwrUxtW3GPL",
    "outputId": "f32ac3ff-64be-44b6-d5e2-4961958731ea"
   },
   "outputs": [
    {
     "data": {
      "text/plain": [
       "<All keys matched successfully>"
      ]
     },
     "execution_count": 30,
     "metadata": {},
     "output_type": "execute_result"
    }
   ],
   "source": [
    "model_test.load_state_dict(state_dict)"
   ]
  },
  {
   "cell_type": "code",
   "execution_count": null,
   "metadata": {
    "colab": {
     "base_uri": "https://localhost:8080/"
    },
    "id": "SGMs88Tk54mq",
    "outputId": "3975c00c-2bb8-4ddc-80fc-d4224599d612"
   },
   "outputs": [
    {
     "name": "stdout",
     "output_type": "stream",
     "text": [
      "tensor(0.7807)\n"
     ]
    }
   ],
   "source": [
    "model_test.eval()\n",
    "y_pred1=model_test(m_xtrain2)\n",
    "y_pred_class1=y_pred1.round()\n",
    "accuracy=(y_pred_class1.eq(ytrain2).sum())/float(ytrain2.shape[0])\n",
    "print(accuracy)"
   ]
  },
  {
   "cell_type": "code",
   "execution_count": null,
   "metadata": {
    "colab": {
     "base_uri": "https://localhost:8080/"
    },
    "id": "Qf2XQm5m8GdW",
    "outputId": "dad57102-dbd2-4054-d8a7-c5c81da10226"
   },
   "outputs": [
    {
     "data": {
      "text/plain": [
       "Logistic_Reg_model(\n",
       "  (layer1): Linear(in_features=178, out_features=20, bias=True)\n",
       "  (layer2): Linear(in_features=20, out_features=1, bias=True)\n",
       ")"
      ]
     },
     "execution_count": 32,
     "metadata": {},
     "output_type": "execute_result"
    }
   ],
   "source": [
    "model_test"
   ]
  },
  {
   "cell_type": "code",
   "execution_count": null,
   "metadata": {
    "id": "vaHfQwwN3WTS"
   },
   "outputs": [],
   "source": [
    "# freeze the gradients and set the requires_grad = False tp freeze the parameters so that the gradeints are not computed in backward().\n",
    "for param in model_test.parameters():\n",
    "    param.requires_grad = False\n",
    "num_ftrs = model_test.layer2.in_features\n",
    "model_test.layer2 = nn.Linear(num_ftrs, 1)"
   ]
  },
  {
   "cell_type": "code",
   "execution_count": null,
   "metadata": {
    "id": "3DndeFixNp4o"
   },
   "outputs": [],
   "source": [
    "optimizer_test = optim.SGD(model_test.layer2.parameters(), lr=0.0001)"
   ]
  },
  {
   "cell_type": "code",
   "execution_count": null,
   "metadata": {
    "id": "L4-lilwVZ-J_"
   },
   "outputs": [],
   "source": [
    "!pip install -q torchinfo\n",
    "from torchinfo import summary"
   ]
  },
  {
   "cell_type": "code",
   "execution_count": null,
   "metadata": {
    "id": "y1ioG5o2Zhr1"
   },
   "outputs": [],
   "source": [
    "summary(model_test,input_size=(1,178), # make sure this is \"input_size\", not \"input_shape\" (batch_size, color_channels, height, width)\n",
    "        verbose=0,\n",
    "        col_names=[\"input_size\", \"output_size\", \"num_params\", \"trainable\"],\n",
    "        col_width=20,\n",
    "        row_settings=[\"var_names\"])"
   ]
  },
  {
   "cell_type": "markdown",
   "metadata": {
    "id": "hmQRSdR0qU5j"
   },
   "source": [
    "**Fine tuning done with missing training dataset of (D2) and testing done with missing testing\n",
    " dataset of (D2)**"
   ]
  },
  {
   "cell_type": "code",
   "execution_count": null,
   "metadata": {
    "id": "U9dScv0POkg9"
   },
   "outputs": [],
   "source": [
    "train_input_labels=torch.Tensor(m_xtrain2.astype(np.float32)),torch.Tensor(ytrain2.astype(np.float32)).view(ytrain2.shape[0],1)\n",
    "test_input_labels=torch.Tensor(m_xtest2.astype(np.float32)),torch.Tensor(ytest2.astype(np.float32)).view(ytest2.shape[0],1)\n"
   ]
  },
  {
   "cell_type": "code",
   "execution_count": null,
   "metadata": {
    "colab": {
     "base_uri": "https://localhost:8080/"
    },
    "id": "TMHWmd7wOSGF",
    "outputId": "ad5f1431-6f0d-4c3b-ea85-f60a75cb212a"
   },
   "outputs": [
    {
     "name": "stderr",
     "output_type": "stream",
     "text": [
      "Training Epochs:   2%|▏         | 240/10000 [00:00<00:08, 1181.54it/s]"
     ]
    },
    {
     "name": "stdout",
     "output_type": "stream",
     "text": [
      "Training_Loss: 24.433258056640625\n",
      "Validation accuracy= 0.5609\n",
      "\n"
     ]
    },
    {
     "name": "stderr",
     "output_type": "stream",
     "text": [
      "Training Epochs:  12%|█▏        | 1243/10000 [00:01<00:07, 1224.91it/s]"
     ]
    },
    {
     "name": "stdout",
     "output_type": "stream",
     "text": [
      "Training_Loss: 1.9442511796951294\n",
      "Validation accuracy= 0.5130\n",
      "\n"
     ]
    },
    {
     "name": "stderr",
     "output_type": "stream",
     "text": [
      "Training Epochs:  21%|██▏       | 2133/10000 [00:01<00:06, 1230.43it/s]"
     ]
    },
    {
     "name": "stdout",
     "output_type": "stream",
     "text": [
      "Training_Loss: 0.6748093366622925\n",
      "Validation accuracy= 0.6058\n",
      "\n"
     ]
    },
    {
     "name": "stderr",
     "output_type": "stream",
     "text": [
      "Training Epochs:  32%|███▏      | 3154/10000 [00:02<00:05, 1195.41it/s]"
     ]
    },
    {
     "name": "stdout",
     "output_type": "stream",
     "text": [
      "Training_Loss: 0.6666083931922913\n",
      "Validation accuracy= 0.6362\n",
      "\n"
     ]
    },
    {
     "name": "stderr",
     "output_type": "stream",
     "text": [
      "Training Epochs:  41%|████▏     | 4139/10000 [00:03<00:04, 1209.78it/s]"
     ]
    },
    {
     "name": "stdout",
     "output_type": "stream",
     "text": [
      "Training_Loss: 0.6587778925895691\n",
      "Validation accuracy= 0.6667\n",
      "\n"
     ]
    },
    {
     "name": "stderr",
     "output_type": "stream",
     "text": [
      "Training Epochs:  52%|█████▏    | 5170/10000 [00:04<00:03, 1285.74it/s]"
     ]
    },
    {
     "name": "stdout",
     "output_type": "stream",
     "text": [
      "Training_Loss: 0.6513022184371948\n",
      "Validation accuracy= 0.7029\n",
      "\n"
     ]
    },
    {
     "name": "stderr",
     "output_type": "stream",
     "text": [
      "Training Epochs:  62%|██████▏   | 6196/10000 [00:05<00:03, 1250.89it/s]"
     ]
    },
    {
     "name": "stdout",
     "output_type": "stream",
     "text": [
      "Training_Loss: 0.6441658139228821\n",
      "Validation accuracy= 0.7290\n",
      "\n"
     ]
    },
    {
     "name": "stderr",
     "output_type": "stream",
     "text": [
      "Training Epochs:  72%|███████▏  | 7216/10000 [00:05<00:02, 1216.95it/s]"
     ]
    },
    {
     "name": "stdout",
     "output_type": "stream",
     "text": [
      "Training_Loss: 0.6373538374900818\n",
      "Validation accuracy= 0.7493\n",
      "\n"
     ]
    },
    {
     "name": "stderr",
     "output_type": "stream",
     "text": [
      "Training Epochs:  82%|████████▏ | 8235/10000 [00:06<00:01, 1200.35it/s]"
     ]
    },
    {
     "name": "stdout",
     "output_type": "stream",
     "text": [
      "Training_Loss: 0.6308519244194031\n",
      "Validation accuracy= 0.7623\n",
      "\n"
     ]
    },
    {
     "name": "stderr",
     "output_type": "stream",
     "text": [
      "Training Epochs:  91%|█████████▏| 9138/10000 [00:07<00:00, 1262.83it/s]"
     ]
    },
    {
     "name": "stdout",
     "output_type": "stream",
     "text": [
      "Training_Loss: 0.6246461272239685\n",
      "Validation accuracy= 0.7754\n",
      "\n"
     ]
    },
    {
     "name": "stderr",
     "output_type": "stream",
     "text": [
      "Training Epochs: 100%|██████████| 10000/10000 [00:08<00:00, 1222.74it/s]\n"
     ]
    }
   ],
   "source": [
    "run_model(epochs,train_input_labels,test_input_labels,model_test,criterion,optimizer_test,save=False)"
   ]
  },
  {
   "cell_type": "markdown",
   "metadata": {
    "id": "4d0Tq_k2qx-B"
   },
   "source": [
    "**Fine tuning done after merging the imputed (D1+D2) datasets**\n",
    "\n",
    "```\n",
    "```\n",
    "\n"
   ]
  },
  {
   "cell_type": "code",
   "execution_count": null,
   "metadata": {
    "id": "0DoJs8KvbXYJ"
   },
   "outputs": [],
   "source": [
    "imp_D1train, imp_D1test, imp_yD1train, imp_yD1test = train_test_split(eeg_imp_xtrain1,ytrain1,test_size=0.2)\n",
    "train_input_labels=torch.Tensor(imp_D1train.astype(np.float32)),torch.Tensor(imp_yD1train.astype(np.float32)).view(imp_yD1train.shape[0],1)\n",
    "test_input_labels=torch.Tensor(imp_D1test.astype(np.float32)),torch.Tensor(imp_yD1test.astype(np.float32)).view(imp_yD1test.shape[0],1)\n"
   ]
  },
  {
   "cell_type": "code",
   "execution_count": null,
   "metadata": {
    "colab": {
     "base_uri": "https://localhost:8080/"
    },
    "id": "m-vzGM9WpFOD",
    "outputId": "da7fc8ac-8c5a-4dfe-96c2-c4acffab817e"
   },
   "outputs": [
    {
     "name": "stderr",
     "output_type": "stream",
     "text": [
      "Training Epochs:   1%|          | 64/10000 [00:00<00:30, 322.12it/s]"
     ]
    },
    {
     "name": "stdout",
     "output_type": "stream",
     "text": [
      "Training_Loss: 0.5170824527740479\n",
      "Validation accuracy= 0.8463\n",
      "\n"
     ]
    },
    {
     "name": "stderr",
     "output_type": "stream",
     "text": [
      "Training Epochs:  10%|█         | 1035/10000 [00:03<00:27, 323.25it/s]"
     ]
    },
    {
     "name": "stdout",
     "output_type": "stream",
     "text": [
      "Training_Loss: 0.506334125995636\n",
      "Validation accuracy= 0.8439\n",
      "\n"
     ]
    },
    {
     "name": "stderr",
     "output_type": "stream",
     "text": [
      "Training Epochs:  20%|██        | 2045/10000 [00:06<00:25, 315.18it/s]"
     ]
    },
    {
     "name": "stdout",
     "output_type": "stream",
     "text": [
      "Training_Loss: 0.5018405914306641\n",
      "Validation accuracy= 0.8432\n",
      "\n"
     ]
    },
    {
     "name": "stderr",
     "output_type": "stream",
     "text": [
      "Training Epochs:  31%|███       | 3060/10000 [00:09<00:22, 312.20it/s]"
     ]
    },
    {
     "name": "stdout",
     "output_type": "stream",
     "text": [
      "Training_Loss: 0.4979954957962036\n",
      "Validation accuracy= 0.8393\n",
      "\n"
     ]
    },
    {
     "name": "stderr",
     "output_type": "stream",
     "text": [
      "Training Epochs:  40%|████      | 4040/10000 [00:12<00:18, 324.11it/s]"
     ]
    },
    {
     "name": "stdout",
     "output_type": "stream",
     "text": [
      "Training_Loss: 0.49455687403678894\n",
      "Validation accuracy= 0.8370\n",
      "\n"
     ]
    },
    {
     "name": "stderr",
     "output_type": "stream",
     "text": [
      "Training Epochs:  50%|█████     | 5036/10000 [00:15<00:15, 315.68it/s]"
     ]
    },
    {
     "name": "stdout",
     "output_type": "stream",
     "text": [
      "Training_Loss: 0.4914151430130005\n",
      "Validation accuracy= 0.8354\n",
      "\n"
     ]
    },
    {
     "name": "stderr",
     "output_type": "stream",
     "text": [
      "Training Epochs:  60%|██████    | 6040/10000 [00:18<00:12, 323.61it/s]"
     ]
    },
    {
     "name": "stdout",
     "output_type": "stream",
     "text": [
      "Training_Loss: 0.48850709199905396\n",
      "Validation accuracy= 0.8354\n",
      "\n"
     ]
    },
    {
     "name": "stderr",
     "output_type": "stream",
     "text": [
      "Training Epochs:  71%|███████   | 7059/10000 [00:21<00:09, 320.53it/s]"
     ]
    },
    {
     "name": "stdout",
     "output_type": "stream",
     "text": [
      "Training_Loss: 0.48579108715057373\n",
      "Validation accuracy= 0.8339\n",
      "\n"
     ]
    },
    {
     "name": "stderr",
     "output_type": "stream",
     "text": [
      "Training Epochs:  80%|████████  | 8042/10000 [00:24<00:06, 313.65it/s]"
     ]
    },
    {
     "name": "stdout",
     "output_type": "stream",
     "text": [
      "Training_Loss: 0.4832386076450348\n",
      "Validation accuracy= 0.8339\n",
      "\n"
     ]
    },
    {
     "name": "stderr",
     "output_type": "stream",
     "text": [
      "Training Epochs:  90%|█████████ | 9033/10000 [00:28<00:03, 319.25it/s]"
     ]
    },
    {
     "name": "stdout",
     "output_type": "stream",
     "text": [
      "Training_Loss: 0.48082926869392395\n",
      "Validation accuracy= 0.8331\n",
      "\n"
     ]
    },
    {
     "name": "stderr",
     "output_type": "stream",
     "text": [
      "Training Epochs: 100%|██████████| 10000/10000 [00:31<00:00, 321.24it/s]\n"
     ]
    }
   ],
   "source": [
    "run_model(10000,train_input_labels,test_input_labels,model,criterion,optimizer,save=True)"
   ]
  },
  {
   "cell_type": "code",
   "execution_count": null,
   "metadata": {
    "id": "KOhrmgtk4jnP"
   },
   "outputs": [],
   "source": [
    "state_dict = torch.load(\"/content/log_reg.pt\")\n",
    "model_test=Logistic_Reg_model(178)\n",
    "model_test.load_state_dict(state_dict)\n",
    "\n",
    "for param in model_test.parameters():\n",
    "    param.requires_grad = False\n",
    "num_ftrs = model_test.layer2.in_features\n",
    "model_test.layer2 = nn.Linear(num_ftrs, 1)"
   ]
  },
  {
   "cell_type": "code",
   "execution_count": null,
   "metadata": {
    "id": "AqjL-q2t_DHl"
   },
   "outputs": [],
   "source": [
    "\n",
    "imp_D2train, imp_D2test, imp_yD2train, imp_yD2test = train_test_split(eeg_imp_xtrain2,ytrain2,test_size=0.2)\n",
    "train_input_labels=torch.Tensor(imp_D2train.astype(np.float32)),torch.Tensor(imp_yD2train.astype(np.float32)).view(imp_yD2train.shape[0],1)\n",
    "test_input_labels=torch.Tensor(imp_D2test.astype(np.float32)),torch.Tensor(imp_yD2test.astype(np.float32)).view(imp_yD2test.shape[0],1)\n"
   ]
  },
  {
   "cell_type": "code",
   "execution_count": null,
   "metadata": {
    "colab": {
     "background_save": true
    },
    "id": "qBUlRv9XU65c"
   },
   "outputs": [],
   "source": [
    "\n",
    "run_model(1000000,train_input_labels,test_input_labels,model_test,criterion,optimizer_test,save=False)"
   ]
  },
  {
   "cell_type": "code",
   "execution_count": null,
   "metadata": {
    "colab": {
     "base_uri": "https://localhost:8080/"
    },
    "id": "MVaFrwipK9M8",
    "outputId": "87fd2719-49b5-4f6c-fd81-a83b46763c58"
   },
   "outputs": [
    {
     "name": "stdout",
     "output_type": "stream",
     "text": [
      "Gain of 2.8423772609819147% after imputation.\n"
     ]
    }
   ],
   "source": [
    "# Gain in performance\n",
    "\n",
    "gain= ((0.796 - 0.774 )/0.774)*100\n",
    "print(f\"Gain of {gain}% after imputation.\")"
   ]
  }
 ],
 "metadata": {
  "colab": {
   "collapsed_sections": [
    "WIEVsWVVuPtG",
    "NJcsAR3luU6k",
    "43fhALvCvjHA",
    "5TmDDfO8lLXH",
    "x-eh1O_ulZkn",
    "K7CTqxMvmKXc",
    "8yqMQ-2y1mTg"
   ],
   "provenance": []
  },
  "kernelspec": {
   "display_name": "Python 3 (ipykernel)",
   "language": "python",
   "name": "python3"
  },
  "language_info": {
   "codemirror_mode": {
    "name": "ipython",
    "version": 3
   },
   "file_extension": ".py",
   "mimetype": "text/x-python",
   "name": "python",
   "nbconvert_exporter": "python",
   "pygments_lexer": "ipython3",
   "version": "3.9.7"
  }
 },
 "nbformat": 4,
 "nbformat_minor": 1
}
